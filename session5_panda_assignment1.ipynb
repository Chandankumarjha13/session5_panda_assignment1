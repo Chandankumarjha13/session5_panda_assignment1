{
 "cells": [
  {
   "cell_type": "markdown",
   "metadata": {},
   "source": [
    "1) How-to-count-distance-to-the-previous-zero\n",
    "For each value, count the difference of the distance from the previous zero (or the start\n",
    "of the Series, whichever is closer) and if there are no previous zeros,print the position\n",
    "Consider a DataFrame df where there is an integer column {'X':[7, 2, 0, 3, 4, 2, 5, 0, 3, 4]}\n",
    "The values should therefore be [1, 2, 0, 1, 2, 3, 4, 0, 1, 2]. Make this a new column 'Y'.\n",
    "import pandas as pd\n",
    "df = pd.DataFrame({'X': [7, 2, 0, 3, 4, 2, 5, 0, 3, 4]})"
   ]
  },
  {
   "cell_type": "code",
   "execution_count": 1,
   "metadata": {},
   "outputs": [
    {
     "data": {
      "text/html": [
       "<div>\n",
       "<style scoped>\n",
       "    .dataframe tbody tr th:only-of-type {\n",
       "        vertical-align: middle;\n",
       "    }\n",
       "\n",
       "    .dataframe tbody tr th {\n",
       "        vertical-align: top;\n",
       "    }\n",
       "\n",
       "    .dataframe thead th {\n",
       "        text-align: right;\n",
       "    }\n",
       "</style>\n",
       "<table border=\"1\" class=\"dataframe\">\n",
       "  <thead>\n",
       "    <tr style=\"text-align: right;\">\n",
       "      <th></th>\n",
       "      <th>X</th>\n",
       "      <th>Y</th>\n",
       "    </tr>\n",
       "  </thead>\n",
       "  <tbody>\n",
       "    <tr>\n",
       "      <th>0</th>\n",
       "      <td>7</td>\n",
       "      <td>1</td>\n",
       "    </tr>\n",
       "    <tr>\n",
       "      <th>1</th>\n",
       "      <td>2</td>\n",
       "      <td>2</td>\n",
       "    </tr>\n",
       "    <tr>\n",
       "      <th>2</th>\n",
       "      <td>0</td>\n",
       "      <td>0</td>\n",
       "    </tr>\n",
       "    <tr>\n",
       "      <th>3</th>\n",
       "      <td>3</td>\n",
       "      <td>1</td>\n",
       "    </tr>\n",
       "    <tr>\n",
       "      <th>4</th>\n",
       "      <td>4</td>\n",
       "      <td>2</td>\n",
       "    </tr>\n",
       "    <tr>\n",
       "      <th>5</th>\n",
       "      <td>2</td>\n",
       "      <td>3</td>\n",
       "    </tr>\n",
       "    <tr>\n",
       "      <th>6</th>\n",
       "      <td>5</td>\n",
       "      <td>4</td>\n",
       "    </tr>\n",
       "    <tr>\n",
       "      <th>7</th>\n",
       "      <td>0</td>\n",
       "      <td>0</td>\n",
       "    </tr>\n",
       "    <tr>\n",
       "      <th>8</th>\n",
       "      <td>3</td>\n",
       "      <td>1</td>\n",
       "    </tr>\n",
       "    <tr>\n",
       "      <th>9</th>\n",
       "      <td>4</td>\n",
       "      <td>2</td>\n",
       "    </tr>\n",
       "  </tbody>\n",
       "</table>\n",
       "</div>"
      ],
      "text/plain": [
       "   X  Y\n",
       "0  7  1\n",
       "1  2  2\n",
       "2  0  0\n",
       "3  3  1\n",
       "4  4  2\n",
       "5  2  3\n",
       "6  5  4\n",
       "7  0  0\n",
       "8  3  1\n",
       "9  4  2"
      ]
     },
     "execution_count": 1,
     "metadata": {},
     "output_type": "execute_result"
    }
   ],
   "source": [
    "import pandas as pd\n",
    "import numpy as np\n",
    "df = pd.DataFrame({'X': [7, 2, 0, 3, 4, 2, 5, 0, 3, 4]})\n",
    "x = (df['X'] != 0).cumsum()\n",
    "y = x != x.shift()\n",
    "df['Y'] = y.groupby((y != y.shift()).cumsum()).cumsum()\n",
    "df['Y'] = df['Y'].astype(int)\n",
    "df"
   ]
  },
  {
   "cell_type": "markdown",
   "metadata": {},
   "source": [
    "# OUTPUT\n",
    "\tX\tY\n",
    "0\t7\t1\n",
    "1\t2\t2\n",
    "2\t0\t0\n",
    "3\t3\t1\n",
    "4\t4\t2\n",
    "5\t2\t3\n",
    "6\t5\t4\n",
    "7\t0\t0\n",
    "8\t3\t1\n",
    "9\t4\t2"
   ]
  },
  {
   "cell_type": "markdown",
   "metadata": {},
   "source": [
    "2) Create a DatetimeIndex that contains each business day of 2015 and use it to index a\n",
    "Series of random numbers."
   ]
  },
  {
   "cell_type": "code",
   "execution_count": 2,
   "metadata": {},
   "outputs": [
    {
     "data": {
      "text/plain": [
       "2015-01-01    0.862012\n",
       "2015-01-02    0.220368\n",
       "2015-01-05    0.786178\n",
       "2015-01-06    0.040933\n",
       "2015-01-07    0.197167\n",
       "2015-01-08    0.826547\n",
       "2015-01-09    0.236089\n",
       "2015-01-12    0.241500\n",
       "2015-01-13    0.489483\n",
       "2015-01-14    0.080892\n",
       "2015-01-15    0.152479\n",
       "2015-01-16    0.338677\n",
       "2015-01-19    0.686841\n",
       "2015-01-20    0.182356\n",
       "2015-01-21    0.262897\n",
       "2015-01-22    0.940949\n",
       "2015-01-23    0.870894\n",
       "2015-01-26    0.217399\n",
       "2015-01-27    0.332416\n",
       "2015-01-28    0.676061\n",
       "2015-01-29    0.907142\n",
       "2015-01-30    0.095358\n",
       "2015-02-02    0.649971\n",
       "2015-02-03    0.792150\n",
       "2015-02-04    0.261097\n",
       "2015-02-05    0.470870\n",
       "2015-02-06    0.412079\n",
       "2015-02-09    0.091302\n",
       "2015-02-10    0.727986\n",
       "2015-02-11    0.602971\n",
       "                ...   \n",
       "2015-11-20    0.936546\n",
       "2015-11-23    0.290882\n",
       "2015-11-24    0.821041\n",
       "2015-11-25    0.824436\n",
       "2015-11-26    0.728324\n",
       "2015-11-27    0.206448\n",
       "2015-11-30    0.874287\n",
       "2015-12-01    0.608735\n",
       "2015-12-02    0.622410\n",
       "2015-12-03    0.100934\n",
       "2015-12-04    0.490615\n",
       "2015-12-07    0.419137\n",
       "2015-12-08    0.428927\n",
       "2015-12-09    0.009890\n",
       "2015-12-10    0.583180\n",
       "2015-12-11    0.013081\n",
       "2015-12-14    0.738272\n",
       "2015-12-15    0.010216\n",
       "2015-12-16    0.874293\n",
       "2015-12-17    0.018175\n",
       "2015-12-18    0.339923\n",
       "2015-12-21    0.497441\n",
       "2015-12-22    0.769780\n",
       "2015-12-23    0.732365\n",
       "2015-12-24    0.326567\n",
       "2015-12-25    0.573245\n",
       "2015-12-28    0.884091\n",
       "2015-12-29    0.354443\n",
       "2015-12-30    0.712638\n",
       "2015-12-31    0.939101\n",
       "Freq: B, Length: 261, dtype: float64"
      ]
     },
     "execution_count": 2,
     "metadata": {},
     "output_type": "execute_result"
    }
   ],
   "source": [
    "#Soln\n",
    "dti = pd.date_range(start='2015-01-01', end='2015-12-31', freq='B') \n",
    "s = pd.Series(np.random.rand(len(dti)), index=dti)\n",
    "s"
   ]
  },
  {
   "cell_type": "markdown",
   "metadata": {},
   "source": [
    "OUTPUT:\n",
    "\n",
    "2015-01-01    0.971705\n",
    "2015-01-02    0.680549\n",
    "2015-01-05    0.117991\n",
    "2015-01-06    0.549043\n",
    "2015-01-07    0.807020\n",
    "2015-01-08    0.527337\n",
    "2015-01-09    0.555179\n",
    "2015-01-12    0.810164\n",
    "2015-01-13    0.254778\n",
    "2015-01-14    0.430857\n",
    "2015-01-15    0.338790\n",
    "2015-01-16    0.507596\n",
    "2015-01-19    0.453363\n",
    "2015-01-20    0.137832\n",
    "2015-01-21    0.384657\n",
    "2015-01-22    0.331411\n",
    "2015-01-23    0.190754\n",
    "2015-01-26    0.511471\n",
    "2015-01-27    0.532615\n",
    "2015-01-28    0.975850\n",
    "2015-01-29    0.532319\n",
    "2015-01-30    0.026673\n",
    "2015-02-02    0.853376\n",
    "2015-02-03    0.011652\n",
    "2015-02-04    0.150799\n",
    "2015-02-05    0.164325\n",
    "2015-02-06    0.055639\n",
    "2015-02-09    0.917021\n",
    "2015-02-10    0.675198\n",
    "2015-02-11    0.278521\n",
    "                ...   \n",
    "2015-11-20    0.650646\n",
    "2015-11-23    0.518551\n",
    "2015-11-24    0.293022\n",
    "2015-11-25    0.553302\n",
    "2015-11-26    0.942658\n",
    "2015-11-27    0.101719\n",
    "2015-11-30    0.113034\n",
    "2015-12-01    0.581225\n",
    "2015-12-02    0.968345\n",
    "2015-12-03    0.454200\n",
    "2015-12-04    0.082157\n",
    "2015-12-07    0.210468\n",
    "2015-12-08    0.380099\n",
    "2015-12-09    0.652198\n",
    "2015-12-10    0.072782\n",
    "2015-12-11    0.274841\n",
    "2015-12-14    0.998509\n",
    "2015-12-15    0.277985\n",
    "2015-12-16    0.841123\n",
    "2015-12-17    0.990337\n",
    "2015-12-18    0.051138\n",
    "2015-12-21    0.792897\n",
    "2015-12-22    0.333332\n",
    "2015-12-23    0.216795\n",
    "2015-12-24    0.523451\n",
    "2015-12-25    0.632278\n",
    "2015-12-28    0.130509\n",
    "2015-12-29    0.217964\n",
    "2015-12-30    0.702513\n",
    "2015-12-31    0.547630\n",
    "Freq: B, Length: 261, dtype: float64"
   ]
  },
  {
   "cell_type": "markdown",
   "metadata": {},
   "source": [
    "3) Find the sum of the values in s for every Wednesday"
   ]
  },
  {
   "cell_type": "code",
   "execution_count": 3,
   "metadata": {},
   "outputs": [
    {
     "data": {
      "text/plain": [
       "24.98620776965195"
      ]
     },
     "execution_count": 3,
     "metadata": {},
     "output_type": "execute_result"
    }
   ],
   "source": [
    "s[dti.weekday == 2].sum()"
   ]
  },
  {
   "cell_type": "markdown",
   "metadata": {},
   "source": [
    "OUTPUT:\n",
    "    26.368208301377052"
   ]
  },
  {
   "cell_type": "markdown",
   "metadata": {},
   "source": [
    "4) Average For each calendar month"
   ]
  },
  {
   "cell_type": "code",
   "execution_count": 4,
   "metadata": {},
   "outputs": [
    {
     "data": {
      "text/plain": [
       "2015-01-31    0.438393\n",
       "2015-02-28    0.492991\n",
       "2015-03-31    0.382168\n",
       "2015-04-30    0.476808\n",
       "2015-05-31    0.525555\n",
       "2015-06-30    0.555255\n",
       "2015-07-31    0.439101\n",
       "2015-08-31    0.443242\n",
       "2015-09-30    0.466786\n",
       "2015-10-31    0.530516\n",
       "2015-11-30    0.518383\n",
       "2015-12-31    0.480324\n",
       "Freq: M, dtype: float64"
      ]
     },
     "execution_count": 4,
     "metadata": {},
     "output_type": "execute_result"
    }
   ],
   "source": [
    "s.resample('M').mean()"
   ]
  },
  {
   "cell_type": "markdown",
   "metadata": {},
   "source": [
    "OUTPUT:\n",
    "    2015-01-31    0.483089\n",
    "2015-02-28    0.506812\n",
    "2015-03-31    0.483262\n",
    "2015-04-30    0.403618\n",
    "2015-05-31    0.460697\n",
    "2015-06-30    0.429952\n",
    "2015-07-31    0.539841\n",
    "2015-08-31    0.436912\n",
    "2015-09-30    0.447638\n",
    "2015-10-31    0.546000\n",
    "2015-11-30    0.476804\n",
    "2015-12-31    0.475338\n",
    "Freq: M, dtype: float64"
   ]
  },
  {
   "cell_type": "markdown",
   "metadata": {},
   "source": [
    "5) For each group of four consecutive calendar months in s, find the date on which the\n",
    "highest value occurred."
   ]
  },
  {
   "cell_type": "code",
   "execution_count": 5,
   "metadata": {},
   "outputs": [
    {
     "data": {
      "text/plain": [
       "2015-01-31   2015-01-22\n",
       "2015-05-31   2015-04-15\n",
       "2015-09-30   2015-07-29\n",
       "2016-01-31   2015-10-16\n",
       "dtype: datetime64[ns]"
      ]
     },
     "execution_count": 5,
     "metadata": {},
     "output_type": "execute_result"
    }
   ],
   "source": [
    "s.groupby(pd.Grouper(freq='4M')).idxmax()"
   ]
  },
  {
   "cell_type": "markdown",
   "metadata": {},
   "source": [
    "output:\n",
    "2015-01-31   2015-01-28\n",
    "2015-05-31   2015-02-20\n",
    "2015-09-30   2015-08-17\n",
    "2016-01-31   2015-12-14\n",
    "dtype: datetime64[ns]"
   ]
  },
  {
   "cell_type": "code",
   "execution_count": null,
   "metadata": {},
   "outputs": [],
   "source": []
  }
 ],
 "metadata": {
  "kernelspec": {
   "display_name": "Python 3",
   "language": "python",
   "name": "python3"
  },
  "language_info": {
   "codemirror_mode": {
    "name": "ipython",
    "version": 3
   },
   "file_extension": ".py",
   "mimetype": "text/x-python",
   "name": "python",
   "nbconvert_exporter": "python",
   "pygments_lexer": "ipython3",
   "version": "3.6.4"
  }
 },
 "nbformat": 4,
 "nbformat_minor": 2
}
